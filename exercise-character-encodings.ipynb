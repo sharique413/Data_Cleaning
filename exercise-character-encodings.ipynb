{
 "cells": [
  {
   "cell_type": "markdown",
   "id": "acknowledged-russia",
   "metadata": {
    "papermill": {
     "duration": 0.013111,
     "end_time": "2021-05-23T03:51:57.487871",
     "exception": false,
     "start_time": "2021-05-23T03:51:57.474760",
     "status": "completed"
    },
    "tags": []
   },
   "source": [
    "**This notebook is an exercise in the [Data Cleaning](https://www.kaggle.com/learn/data-cleaning) course.  You can reference the tutorial at [this link](https://www.kaggle.com/alexisbcook/character-encodings).**\n",
    "\n",
    "---\n"
   ]
  },
  {
   "cell_type": "markdown",
   "id": "deadly-square",
   "metadata": {
    "papermill": {
     "duration": 0.012316,
     "end_time": "2021-05-23T03:51:57.512791",
     "exception": false,
     "start_time": "2021-05-23T03:51:57.500475",
     "status": "completed"
    },
    "tags": []
   },
   "source": [
    "In this exercise, you'll apply what you learned in the **Character encodings** tutorial.\n",
    "\n",
    "# Setup\n",
    "\n",
    "The questions below will give you feedback on your work. Run the following cell to set up the feedback system."
   ]
  },
  {
   "cell_type": "code",
   "execution_count": 1,
   "id": "average-surfing",
   "metadata": {
    "execution": {
     "iopub.execute_input": "2021-05-23T03:51:57.544283Z",
     "iopub.status.busy": "2021-05-23T03:51:57.543515Z",
     "iopub.status.idle": "2021-05-23T03:51:57.624771Z",
     "shell.execute_reply": "2021-05-23T03:51:57.625238Z"
    },
    "papermill": {
     "duration": 0.100267,
     "end_time": "2021-05-23T03:51:57.625508",
     "exception": false,
     "start_time": "2021-05-23T03:51:57.525241",
     "status": "completed"
    },
    "tags": []
   },
   "outputs": [
    {
     "name": "stdout",
     "output_type": "stream",
     "text": [
      "Setup Complete\n"
     ]
    }
   ],
   "source": [
    "from learntools.core import binder\n",
    "binder.bind(globals())\n",
    "from learntools.data_cleaning.ex4 import *\n",
    "print(\"Setup Complete\")"
   ]
  },
  {
   "cell_type": "markdown",
   "id": "qualified-fetish",
   "metadata": {
    "papermill": {
     "duration": 0.012555,
     "end_time": "2021-05-23T03:51:57.653538",
     "exception": false,
     "start_time": "2021-05-23T03:51:57.640983",
     "status": "completed"
    },
    "tags": []
   },
   "source": [
    "# Get our environment set up\n",
    "\n",
    "The first thing we'll need to do is load in the libraries we'll be using."
   ]
  },
  {
   "cell_type": "code",
   "execution_count": 2,
   "id": "center-renewal",
   "metadata": {
    "execution": {
     "iopub.execute_input": "2021-05-23T03:51:57.683874Z",
     "iopub.status.busy": "2021-05-23T03:51:57.683241Z",
     "iopub.status.idle": "2021-05-23T03:51:57.685901Z",
     "shell.execute_reply": "2021-05-23T03:51:57.685332Z"
    },
    "papermill": {
     "duration": 0.019681,
     "end_time": "2021-05-23T03:51:57.686043",
     "exception": false,
     "start_time": "2021-05-23T03:51:57.666362",
     "status": "completed"
    },
    "tags": []
   },
   "outputs": [],
   "source": [
    "# modules we'll use\n",
    "import pandas as pd\n",
    "import numpy as np\n",
    "\n",
    "# helpful character encoding module\n",
    "import chardet\n",
    "\n",
    "# set seed for reproducibility\n",
    "np.random.seed(0)"
   ]
  },
  {
   "cell_type": "markdown",
   "id": "desperate-fever",
   "metadata": {
    "papermill": {
     "duration": 0.012628,
     "end_time": "2021-05-23T03:51:57.711391",
     "exception": false,
     "start_time": "2021-05-23T03:51:57.698763",
     "status": "completed"
    },
    "tags": []
   },
   "source": [
    "# 1) What are encodings?\n",
    "\n",
    "You're working with a dataset composed of bytes.  Run the code cell below to print a sample entry."
   ]
  },
  {
   "cell_type": "code",
   "execution_count": 3,
   "id": "obvious-dimension",
   "metadata": {
    "execution": {
     "iopub.execute_input": "2021-05-23T03:51:57.740173Z",
     "iopub.status.busy": "2021-05-23T03:51:57.739561Z",
     "iopub.status.idle": "2021-05-23T03:51:57.745939Z",
     "shell.execute_reply": "2021-05-23T03:51:57.745437Z"
    },
    "papermill": {
     "duration": 0.021794,
     "end_time": "2021-05-23T03:51:57.746110",
     "exception": false,
     "start_time": "2021-05-23T03:51:57.724316",
     "status": "completed"
    },
    "tags": []
   },
   "outputs": [
    {
     "name": "stdout",
     "output_type": "stream",
     "text": [
      "b'\\xa7A\\xa6n'\n",
      "data type: <class 'bytes'>\n"
     ]
    }
   ],
   "source": [
    "sample_entry = b'\\xa7A\\xa6n'\n",
    "print(sample_entry)\n",
    "print('data type:', type(sample_entry))"
   ]
  },
  {
   "cell_type": "markdown",
   "id": "neither-robin",
   "metadata": {
    "papermill": {
     "duration": 0.012955,
     "end_time": "2021-05-23T03:51:57.773761",
     "exception": false,
     "start_time": "2021-05-23T03:51:57.760806",
     "status": "completed"
    },
    "tags": []
   },
   "source": [
    "You notice that it doesn't use the standard UTF-8 encoding. \n",
    "\n",
    "Use the next code cell to create a variable `new_entry` that changes the encoding from `\"big5-tw\"` to `\"utf-8\"`.  `new_entry` should have the bytes datatype."
   ]
  },
  {
   "cell_type": "code",
   "execution_count": 4,
   "id": "identified-brisbane",
   "metadata": {
    "execution": {
     "iopub.execute_input": "2021-05-23T03:51:57.808169Z",
     "iopub.status.busy": "2021-05-23T03:51:57.807219Z",
     "iopub.status.idle": "2021-05-23T03:51:57.812586Z",
     "shell.execute_reply": "2021-05-23T03:51:57.811951Z"
    },
    "papermill": {
     "duration": 0.025853,
     "end_time": "2021-05-23T03:51:57.812726",
     "exception": false,
     "start_time": "2021-05-23T03:51:57.786873",
     "status": "completed"
    },
    "tags": []
   },
   "outputs": [
    {
     "data": {
      "application/javascript": [
       "parent.postMessage({\"jupyterEvent\": \"custom.exercise_interaction\", \"data\": {\"outcomeType\": 1, \"valueTowardsCompletion\": 0.3333333333333333, \"interactionType\": 1, \"questionType\": 1, \"questionId\": \"1_EncodingsIntro\", \"learnToolsVersion\": \"0.3.4\", \"failureMessage\": \"\", \"exceptionClass\": \"\", \"trace\": \"\"}}, \"*\")"
      ],
      "text/plain": [
       "<IPython.core.display.Javascript object>"
      ]
     },
     "metadata": {},
     "output_type": "display_data"
    },
    {
     "data": {
      "text/markdown": [
       "<span style=\"color:#33cc33\">Correct</span>"
      ],
      "text/plain": [
       "Correct"
      ]
     },
     "metadata": {},
     "output_type": "display_data"
    }
   ],
   "source": [
    "before = sample_entry.decode(\"big5-tw\")\n",
    "new_entry = before.encode()\n",
    "\n",
    "# Check your answer\n",
    "q1.check()"
   ]
  },
  {
   "cell_type": "code",
   "execution_count": 5,
   "id": "round-filename",
   "metadata": {
    "execution": {
     "iopub.execute_input": "2021-05-23T03:51:57.844495Z",
     "iopub.status.busy": "2021-05-23T03:51:57.843882Z",
     "iopub.status.idle": "2021-05-23T03:51:57.846678Z",
     "shell.execute_reply": "2021-05-23T03:51:57.847164Z"
    },
    "papermill": {
     "duration": 0.02036,
     "end_time": "2021-05-23T03:51:57.847322",
     "exception": false,
     "start_time": "2021-05-23T03:51:57.826962",
     "status": "completed"
    },
    "tags": []
   },
   "outputs": [],
   "source": [
    "# Lines below will give you a hint or solution code\n",
    "#q1.hint()\n",
    "#q1.solution()"
   ]
  },
  {
   "cell_type": "markdown",
   "id": "canadian-trance",
   "metadata": {
    "papermill": {
     "duration": 0.014742,
     "end_time": "2021-05-23T03:51:57.876456",
     "exception": false,
     "start_time": "2021-05-23T03:51:57.861714",
     "status": "completed"
    },
    "tags": []
   },
   "source": [
    "# 2) Reading in files with encoding problems\n",
    "\n",
    "Use the code cell below to read in this file at path `\"../input/fatal-police-shootings-in-the-us/PoliceKillingsUS.csv\"`.  \n",
    "\n",
    "Figure out what the correct encoding should be and read in the file to a DataFrame `police_killings`."
   ]
  },
  {
   "cell_type": "code",
   "execution_count": 6,
   "id": "fluid-functionality",
   "metadata": {
    "execution": {
     "iopub.execute_input": "2021-05-23T03:51:57.908244Z",
     "iopub.status.busy": "2021-05-23T03:51:57.907622Z",
     "iopub.status.idle": "2021-05-23T03:51:57.933943Z",
     "shell.execute_reply": "2021-05-23T03:51:57.933387Z"
    },
    "papermill": {
     "duration": 0.043323,
     "end_time": "2021-05-23T03:51:57.934113",
     "exception": false,
     "start_time": "2021-05-23T03:51:57.890790",
     "status": "completed"
    },
    "tags": []
   },
   "outputs": [
    {
     "data": {
      "application/javascript": [
       "parent.postMessage({\"jupyterEvent\": \"custom.exercise_interaction\", \"data\": {\"outcomeType\": 1, \"valueTowardsCompletion\": 0.3333333333333333, \"interactionType\": 1, \"questionType\": 1, \"questionId\": \"2_ReadIn\", \"learnToolsVersion\": \"0.3.4\", \"failureMessage\": \"\", \"exceptionClass\": \"\", \"trace\": \"\"}}, \"*\")"
      ],
      "text/plain": [
       "<IPython.core.display.Javascript object>"
      ]
     },
     "metadata": {},
     "output_type": "display_data"
    },
    {
     "data": {
      "text/markdown": [
       "<span style=\"color:#33cc33\">Correct</span>"
      ],
      "text/plain": [
       "Correct"
      ]
     },
     "metadata": {},
     "output_type": "display_data"
    }
   ],
   "source": [
    "# TODO: Load in the DataFrame correctly.\n",
    "police_killings = pd.read_csv(\"../input/fatal-police-shootings-in-the-us/PoliceKillingsUS.csv\", encoding='Windows-1252')\n",
    "\n",
    "# Check your answer\n",
    "q2.check()"
   ]
  },
  {
   "cell_type": "markdown",
   "id": "healthy-swedish",
   "metadata": {
    "papermill": {
     "duration": 0.015006,
     "end_time": "2021-05-23T03:51:57.964661",
     "exception": false,
     "start_time": "2021-05-23T03:51:57.949655",
     "status": "completed"
    },
    "tags": []
   },
   "source": [
    "Feel free to use any additional code cells for supplemental work.  To get credit for finishing this question, you'll need to run `q2.check()` and get a result of **Correct**."
   ]
  },
  {
   "cell_type": "code",
   "execution_count": 7,
   "id": "enhanced-sucking",
   "metadata": {
    "execution": {
     "iopub.execute_input": "2021-05-23T03:51:58.000298Z",
     "iopub.status.busy": "2021-05-23T03:51:57.999638Z",
     "iopub.status.idle": "2021-05-23T03:51:58.001549Z",
     "shell.execute_reply": "2021-05-23T03:51:58.001988Z"
    },
    "papermill": {
     "duration": 0.021861,
     "end_time": "2021-05-23T03:51:58.002171",
     "exception": false,
     "start_time": "2021-05-23T03:51:57.980310",
     "status": "completed"
    },
    "tags": []
   },
   "outputs": [],
   "source": [
    "# (Optional) Use this code cell for any additional work."
   ]
  },
  {
   "cell_type": "code",
   "execution_count": 8,
   "id": "present-system",
   "metadata": {
    "execution": {
     "iopub.execute_input": "2021-05-23T03:51:58.036428Z",
     "iopub.status.busy": "2021-05-23T03:51:58.035798Z",
     "iopub.status.idle": "2021-05-23T03:51:58.038574Z",
     "shell.execute_reply": "2021-05-23T03:51:58.038975Z"
    },
    "papermill": {
     "duration": 0.021335,
     "end_time": "2021-05-23T03:51:58.039157",
     "exception": false,
     "start_time": "2021-05-23T03:51:58.017822",
     "status": "completed"
    },
    "tags": []
   },
   "outputs": [],
   "source": [
    "# Lines below will give you a hint or solution code\n",
    "#q2.hint()\n",
    "#q2.solution()"
   ]
  },
  {
   "cell_type": "markdown",
   "id": "tracked-emerald",
   "metadata": {
    "papermill": {
     "duration": 0.015632,
     "end_time": "2021-05-23T03:51:58.070727",
     "exception": false,
     "start_time": "2021-05-23T03:51:58.055095",
     "status": "completed"
    },
    "tags": []
   },
   "source": [
    "# 3) Saving your files with UTF-8 encoding\n",
    "\n",
    "Save a version of the police killings dataset to CSV with UTF-8 encoding.  Your answer will be marked correct after saving this file.  \n",
    "\n",
    "Note: When using the `to_csv()` method, supply only the name of the file (e.g., `\"my_file.csv\"`).  This saves the file at the filepath `\"/kaggle/working/my_file.csv\"`."
   ]
  },
  {
   "cell_type": "code",
   "execution_count": 9,
   "id": "chicken-principal",
   "metadata": {
    "execution": {
     "iopub.execute_input": "2021-05-23T03:51:58.105648Z",
     "iopub.status.busy": "2021-05-23T03:51:58.105020Z",
     "iopub.status.idle": "2021-05-23T03:51:58.146271Z",
     "shell.execute_reply": "2021-05-23T03:51:58.145617Z"
    },
    "papermill": {
     "duration": 0.059826,
     "end_time": "2021-05-23T03:51:58.146412",
     "exception": false,
     "start_time": "2021-05-23T03:51:58.086586",
     "status": "completed"
    },
    "tags": []
   },
   "outputs": [
    {
     "data": {
      "application/javascript": [
       "parent.postMessage({\"jupyterEvent\": \"custom.exercise_interaction\", \"data\": {\"outcomeType\": 1, \"valueTowardsCompletion\": 0.3333333333333333, \"interactionType\": 1, \"questionType\": 2, \"questionId\": \"3_SaveCSV\", \"learnToolsVersion\": \"0.3.4\", \"failureMessage\": \"\", \"exceptionClass\": \"\", \"trace\": \"\"}}, \"*\")"
      ],
      "text/plain": [
       "<IPython.core.display.Javascript object>"
      ]
     },
     "metadata": {},
     "output_type": "display_data"
    },
    {
     "data": {
      "text/markdown": [
       "<span style=\"color:#33cc33\">Correct</span>"
      ],
      "text/plain": [
       "Correct"
      ]
     },
     "metadata": {},
     "output_type": "display_data"
    }
   ],
   "source": [
    "# TODO: Save the police killings dataset to CSV\n",
    "\n",
    "police_killings.to_csv(\"my_file.csv\")\n",
    "\n",
    "# Check your answer\n",
    "q3.check()"
   ]
  },
  {
   "cell_type": "code",
   "execution_count": 10,
   "id": "arctic-pavilion",
   "metadata": {
    "execution": {
     "iopub.execute_input": "2021-05-23T03:51:58.188407Z",
     "iopub.status.busy": "2021-05-23T03:51:58.187760Z",
     "iopub.status.idle": "2021-05-23T03:51:58.190507Z",
     "shell.execute_reply": "2021-05-23T03:51:58.190938Z"
    },
    "papermill": {
     "duration": 0.026675,
     "end_time": "2021-05-23T03:51:58.191132",
     "exception": false,
     "start_time": "2021-05-23T03:51:58.164457",
     "status": "completed"
    },
    "tags": []
   },
   "outputs": [],
   "source": [
    "# Lines below will give you a hint or solution code\n",
    "#q3.hint()\n",
    "#q3.solution()"
   ]
  },
  {
   "cell_type": "markdown",
   "id": "religious-credits",
   "metadata": {
    "papermill": {
     "duration": 0.016951,
     "end_time": "2021-05-23T03:51:58.225269",
     "exception": false,
     "start_time": "2021-05-23T03:51:58.208318",
     "status": "completed"
    },
    "tags": []
   },
   "source": [
    "# (Optional) More practice\n",
    "\n",
    "Check out [this dataset of files in different character encodings](https://www.kaggle.com/rtatman/character-encoding-examples). Can you read in all the files with their original encodings and them save them out as UTF-8 files?\n",
    "\n",
    "If you have a file that's in UTF-8 but has just a couple of weird-looking characters in it, you can try out the [ftfy module](https://ftfy.readthedocs.io/en/latest/#) and see if it helps. \n",
    "\n",
    "# Keep going\n",
    "\n",
    "In the final lesson, learn how to [**clean up inconsistent text entries**](https://www.kaggle.com/alexisbcook/inconsistent-data-entry) in your dataset."
   ]
  },
  {
   "cell_type": "markdown",
   "id": "hundred-round",
   "metadata": {
    "papermill": {
     "duration": 0.016836,
     "end_time": "2021-05-23T03:51:58.259204",
     "exception": false,
     "start_time": "2021-05-23T03:51:58.242368",
     "status": "completed"
    },
    "tags": []
   },
   "source": [
    "---\n",
    "\n",
    "\n",
    "\n",
    "\n",
    "*Have questions or comments? Visit the [Learn Discussion forum](https://www.kaggle.com/learn-forum/172650) to chat with other Learners.*"
   ]
  }
 ],
 "metadata": {
  "kernelspec": {
   "display_name": "Python 3",
   "language": "python",
   "name": "python3"
  },
  "language_info": {
   "codemirror_mode": {
    "name": "ipython",
    "version": 3
   },
   "file_extension": ".py",
   "mimetype": "text/x-python",
   "name": "python",
   "nbconvert_exporter": "python",
   "pygments_lexer": "ipython3",
   "version": "3.7.9"
  },
  "papermill": {
   "default_parameters": {},
   "duration": 7.443455,
   "end_time": "2021-05-23T03:51:58.785648",
   "environment_variables": {},
   "exception": null,
   "input_path": "__notebook__.ipynb",
   "output_path": "__notebook__.ipynb",
   "parameters": {},
   "start_time": "2021-05-23T03:51:51.342193",
   "version": "2.3.2"
  }
 },
 "nbformat": 4,
 "nbformat_minor": 5
}

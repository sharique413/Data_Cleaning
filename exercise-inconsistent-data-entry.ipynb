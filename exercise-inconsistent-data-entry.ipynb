{
 "cells": [
  {
   "cell_type": "markdown",
   "id": "variable-kennedy",
   "metadata": {
    "papermill": {
     "duration": 0.01189,
     "end_time": "2021-05-23T03:52:05.132415",
     "exception": false,
     "start_time": "2021-05-23T03:52:05.120525",
     "status": "completed"
    },
    "tags": []
   },
   "source": [
    "**This notebook is an exercise in the [Data Cleaning](https://www.kaggle.com/learn/data-cleaning) course.  You can reference the tutorial at [this link](https://www.kaggle.com/alexisbcook/inconsistent-data-entry).**\n",
    "\n",
    "---\n"
   ]
  },
  {
   "cell_type": "markdown",
   "id": "different-portrait",
   "metadata": {
    "papermill": {
     "duration": 0.011201,
     "end_time": "2021-05-23T03:52:05.155126",
     "exception": false,
     "start_time": "2021-05-23T03:52:05.143925",
     "status": "completed"
    },
    "tags": []
   },
   "source": [
    "In this exercise, you'll apply what you learned in the **Inconsistent data entry** tutorial.\n",
    "\n",
    "# Setup\n",
    "\n",
    "The questions below will give you feedback on your work. Run the following cell to set up the feedback system."
   ]
  },
  {
   "cell_type": "code",
   "execution_count": 1,
   "id": "dying-dragon",
   "metadata": {
    "execution": {
     "iopub.execute_input": "2021-05-23T03:52:05.183329Z",
     "iopub.status.busy": "2021-05-23T03:52:05.182554Z",
     "iopub.status.idle": "2021-05-23T03:52:05.307707Z",
     "shell.execute_reply": "2021-05-23T03:52:05.308103Z"
    },
    "papermill": {
     "duration": 0.142269,
     "end_time": "2021-05-23T03:52:05.308352",
     "exception": false,
     "start_time": "2021-05-23T03:52:05.166083",
     "status": "completed"
    },
    "tags": []
   },
   "outputs": [
    {
     "name": "stdout",
     "output_type": "stream",
     "text": [
      "Setup Complete\n"
     ]
    }
   ],
   "source": [
    "from learntools.core import binder\n",
    "binder.bind(globals())\n",
    "from learntools.data_cleaning.ex5 import *\n",
    "print(\"Setup Complete\")"
   ]
  },
  {
   "cell_type": "markdown",
   "id": "dying-kitchen",
   "metadata": {
    "papermill": {
     "duration": 0.010879,
     "end_time": "2021-05-23T03:52:05.330905",
     "exception": false,
     "start_time": "2021-05-23T03:52:05.320026",
     "status": "completed"
    },
    "tags": []
   },
   "source": [
    "# Get our environment set up\n",
    "\n",
    "The first thing we'll need to do is load in the libraries and dataset we'll be using.  We use the same dataset from the tutorial."
   ]
  },
  {
   "cell_type": "code",
   "execution_count": 2,
   "id": "published-private",
   "metadata": {
    "execution": {
     "iopub.execute_input": "2021-05-23T03:52:05.358957Z",
     "iopub.status.busy": "2021-05-23T03:52:05.358264Z",
     "iopub.status.idle": "2021-05-23T03:52:05.369516Z",
     "shell.execute_reply": "2021-05-23T03:52:05.369087Z"
    },
    "papermill": {
     "duration": 0.027282,
     "end_time": "2021-05-23T03:52:05.369632",
     "exception": false,
     "start_time": "2021-05-23T03:52:05.342350",
     "status": "completed"
    },
    "tags": []
   },
   "outputs": [],
   "source": [
    "# modules we'll use\n",
    "import pandas as pd\n",
    "import numpy as np\n",
    "\n",
    "# helpful modules\n",
    "import fuzzywuzzy\n",
    "from fuzzywuzzy import process\n",
    "import chardet\n",
    "\n",
    "# read in all our data\n",
    "professors = pd.read_csv(\"../input/pakistan-intellectual-capital/pakistan_intellectual_capital.csv\")\n",
    "\n",
    "# set seed for reproducibility\n",
    "np.random.seed(0)"
   ]
  },
  {
   "cell_type": "markdown",
   "id": "neutral-latin",
   "metadata": {
    "papermill": {
     "duration": 0.011063,
     "end_time": "2021-05-23T03:52:05.392065",
     "exception": false,
     "start_time": "2021-05-23T03:52:05.381002",
     "status": "completed"
    },
    "tags": []
   },
   "source": [
    "Next, we'll redo all of the work that we did in the tutorial."
   ]
  },
  {
   "cell_type": "code",
   "execution_count": 3,
   "id": "interim-opportunity",
   "metadata": {
    "execution": {
     "iopub.execute_input": "2021-05-23T03:52:05.431829Z",
     "iopub.status.busy": "2021-05-23T03:52:05.431310Z",
     "iopub.status.idle": "2021-05-23T03:52:05.437060Z",
     "shell.execute_reply": "2021-05-23T03:52:05.437819Z"
    },
    "papermill": {
     "duration": 0.034731,
     "end_time": "2021-05-23T03:52:05.438093",
     "exception": false,
     "start_time": "2021-05-23T03:52:05.403362",
     "status": "completed"
    },
    "tags": []
   },
   "outputs": [
    {
     "name": "stdout",
     "output_type": "stream",
     "text": [
      "All done!\n"
     ]
    }
   ],
   "source": [
    "# convert to lower case\n",
    "professors['Country'] = professors['Country'].str.lower()\n",
    "# remove trailing white spaces\n",
    "professors['Country'] = professors['Country'].str.strip()\n",
    "\n",
    "# get the top 10 closest matches to \"south korea\"\n",
    "countries = professors['Country'].unique()\n",
    "matches = fuzzywuzzy.process.extract(\"south korea\", countries, limit=10, scorer=fuzzywuzzy.fuzz.token_sort_ratio)\n",
    "\n",
    "def replace_matches_in_column(df, column, string_to_match, min_ratio = 47):\n",
    "    # get a list of unique strings\n",
    "    strings = df[column].unique()\n",
    "    \n",
    "    # get the top 10 closest matches to our input string\n",
    "    matches = fuzzywuzzy.process.extract(string_to_match, strings, \n",
    "                                         limit=10, scorer=fuzzywuzzy.fuzz.token_sort_ratio)\n",
    "\n",
    "    # only get matches with a ratio > 90\n",
    "    close_matches = [matches[0] for matches in matches if matches[1] >= min_ratio]\n",
    "\n",
    "    # get the rows of all the close matches in our dataframe\n",
    "    rows_with_matches = df[column].isin(close_matches)\n",
    "\n",
    "    # replace all rows with close matches with the input matches \n",
    "    df.loc[rows_with_matches, column] = string_to_match\n",
    "    \n",
    "    # let us know the function's done\n",
    "    print(\"All done!\")\n",
    "    \n",
    "replace_matches_in_column(df=professors, column='Country', string_to_match=\"south korea\")\n",
    "countries = professors['Country'].unique()"
   ]
  },
  {
   "cell_type": "markdown",
   "id": "premium-forty",
   "metadata": {
    "papermill": {
     "duration": 0.011671,
     "end_time": "2021-05-23T03:52:05.462001",
     "exception": false,
     "start_time": "2021-05-23T03:52:05.450330",
     "status": "completed"
    },
    "tags": []
   },
   "source": [
    "# 1) Examine another column\n",
    "\n",
    "Write code below to take a look at all the unique values in the \"Graduated from\" column."
   ]
  },
  {
   "cell_type": "code",
   "execution_count": 4,
   "id": "magnetic-haven",
   "metadata": {
    "execution": {
     "iopub.execute_input": "2021-05-23T03:52:05.490340Z",
     "iopub.status.busy": "2021-05-23T03:52:05.489850Z",
     "iopub.status.idle": "2021-05-23T03:52:05.492892Z",
     "shell.execute_reply": "2021-05-23T03:52:05.492396Z"
    },
    "papermill": {
     "duration": 0.019233,
     "end_time": "2021-05-23T03:52:05.493002",
     "exception": false,
     "start_time": "2021-05-23T03:52:05.473769",
     "status": "completed"
    },
    "tags": []
   },
   "outputs": [],
   "source": [
    "# TODO: Your code here\n",
    "unis = professors['Graduated from'].unique()"
   ]
  },
  {
   "cell_type": "markdown",
   "id": "overall-chile",
   "metadata": {
    "papermill": {
     "duration": 0.011485,
     "end_time": "2021-05-23T03:52:05.516613",
     "exception": false,
     "start_time": "2021-05-23T03:52:05.505128",
     "status": "completed"
    },
    "tags": []
   },
   "source": [
    "Do you notice any inconsistencies in the data?  Can any of the inconsistencies in the data be fixed by removing white spaces at the beginning and end of cells?\n",
    "\n",
    "Once you have answered these questions, run the code cell below to get credit for your work."
   ]
  },
  {
   "cell_type": "code",
   "execution_count": 5,
   "id": "hazardous-posting",
   "metadata": {
    "execution": {
     "iopub.execute_input": "2021-05-23T03:52:05.545537Z",
     "iopub.status.busy": "2021-05-23T03:52:05.545035Z",
     "iopub.status.idle": "2021-05-23T03:52:05.550209Z",
     "shell.execute_reply": "2021-05-23T03:52:05.550689Z"
    },
    "papermill": {
     "duration": 0.022647,
     "end_time": "2021-05-23T03:52:05.550818",
     "exception": false,
     "start_time": "2021-05-23T03:52:05.528171",
     "status": "completed"
    },
    "tags": []
   },
   "outputs": [
    {
     "data": {
      "application/javascript": [
       "parent.postMessage({\"jupyterEvent\": \"custom.exercise_interaction\", \"data\": {\"outcomeType\": 1, \"valueTowardsCompletion\": 0.3333333333333333, \"interactionType\": 1, \"questionType\": 4, \"questionId\": \"1_ExamineProvince\", \"learnToolsVersion\": \"0.3.4\", \"failureMessage\": \"\", \"exceptionClass\": \"\", \"trace\": \"\"}}, \"*\")"
      ],
      "text/plain": [
       "<IPython.core.display.Javascript object>"
      ]
     },
     "metadata": {},
     "output_type": "display_data"
    },
    {
     "data": {
      "text/markdown": [
       "<span style=\"color:#33cc33\">Correct:</span> \n",
       "\n",
       "There are inconsistencies that can be fixed by removing white spaces at the beginning and end of cells.  For instance, \"University of Central Florida\" and \" University of Central Florida\" both appear in the column."
      ],
      "text/plain": [
       "Correct: \n",
       "\n",
       "There are inconsistencies that can be fixed by removing white spaces at the beginning and end of cells.  For instance, \"University of Central Florida\" and \" University of Central Florida\" both appear in the column."
      ]
     },
     "metadata": {},
     "output_type": "display_data"
    }
   ],
   "source": [
    "# Check your answer (Run this code cell to receive credit!)\n",
    "q1.check()"
   ]
  },
  {
   "cell_type": "code",
   "execution_count": 6,
   "id": "removable-attempt",
   "metadata": {
    "execution": {
     "iopub.execute_input": "2021-05-23T03:52:05.579807Z",
     "iopub.status.busy": "2021-05-23T03:52:05.579279Z",
     "iopub.status.idle": "2021-05-23T03:52:05.581429Z",
     "shell.execute_reply": "2021-05-23T03:52:05.581965Z"
    },
    "papermill": {
     "duration": 0.018741,
     "end_time": "2021-05-23T03:52:05.582110",
     "exception": false,
     "start_time": "2021-05-23T03:52:05.563369",
     "status": "completed"
    },
    "tags": []
   },
   "outputs": [],
   "source": [
    "# Line below will give you a hint\n",
    "#q1.hint()"
   ]
  },
  {
   "cell_type": "markdown",
   "id": "sporting-reflection",
   "metadata": {
    "papermill": {
     "duration": 0.012346,
     "end_time": "2021-05-23T03:52:05.607347",
     "exception": false,
     "start_time": "2021-05-23T03:52:05.595001",
     "status": "completed"
    },
    "tags": []
   },
   "source": [
    "# 2) Do some text pre-processing\n",
    "\n",
    "Convert every entry in the \"Graduated from\" column in the `professors` DataFrame to remove white spaces at the beginning and end of cells."
   ]
  },
  {
   "cell_type": "code",
   "execution_count": 7,
   "id": "musical-juice",
   "metadata": {
    "execution": {
     "iopub.execute_input": "2021-05-23T03:52:05.635863Z",
     "iopub.status.busy": "2021-05-23T03:52:05.635346Z",
     "iopub.status.idle": "2021-05-23T03:52:05.647099Z",
     "shell.execute_reply": "2021-05-23T03:52:05.647622Z"
    },
    "papermill": {
     "duration": 0.027646,
     "end_time": "2021-05-23T03:52:05.647811",
     "exception": false,
     "start_time": "2021-05-23T03:52:05.620165",
     "status": "completed"
    },
    "tags": []
   },
   "outputs": [
    {
     "data": {
      "application/javascript": [
       "parent.postMessage({\"jupyterEvent\": \"custom.exercise_interaction\", \"data\": {\"outcomeType\": 1, \"valueTowardsCompletion\": 0.3333333333333333, \"interactionType\": 1, \"questionType\": 1, \"questionId\": \"2_TextProcessing\", \"learnToolsVersion\": \"0.3.4\", \"failureMessage\": \"\", \"exceptionClass\": \"\", \"trace\": \"\"}}, \"*\")"
      ],
      "text/plain": [
       "<IPython.core.display.Javascript object>"
      ]
     },
     "metadata": {},
     "output_type": "display_data"
    },
    {
     "data": {
      "text/markdown": [
       "<span style=\"color:#33cc33\">Correct</span>"
      ],
      "text/plain": [
       "Correct"
      ]
     },
     "metadata": {},
     "output_type": "display_data"
    }
   ],
   "source": [
    "# TODO: Your code here\n",
    "professors['Graduated from'] = professors['Graduated from'].str.strip()\n",
    "\n",
    "# Check your answer\n",
    "q2.check()"
   ]
  },
  {
   "cell_type": "code",
   "execution_count": 8,
   "id": "atmospheric-uruguay",
   "metadata": {
    "execution": {
     "iopub.execute_input": "2021-05-23T03:52:05.692537Z",
     "iopub.status.busy": "2021-05-23T03:52:05.691844Z",
     "iopub.status.idle": "2021-05-23T03:52:05.695465Z",
     "shell.execute_reply": "2021-05-23T03:52:05.694899Z"
    },
    "papermill": {
     "duration": 0.027296,
     "end_time": "2021-05-23T03:52:05.695628",
     "exception": false,
     "start_time": "2021-05-23T03:52:05.668332",
     "status": "completed"
    },
    "tags": []
   },
   "outputs": [],
   "source": [
    "# Lines below will give you a hint or solution code\n",
    "#q2.hint()\n",
    "#q2.solution()"
   ]
  },
  {
   "cell_type": "markdown",
   "id": "elder-candy",
   "metadata": {
    "papermill": {
     "duration": 0.020343,
     "end_time": "2021-05-23T03:52:05.736807",
     "exception": false,
     "start_time": "2021-05-23T03:52:05.716464",
     "status": "completed"
    },
    "tags": []
   },
   "source": [
    "# 3) Continue working with countries\n",
    "\n",
    "In the tutorial, we focused on cleaning up inconsistencies in the \"Country\" column.  Run the code cell below to view the list of unique values that we ended with."
   ]
  },
  {
   "cell_type": "code",
   "execution_count": 9,
   "id": "emerging-yugoslavia",
   "metadata": {
    "execution": {
     "iopub.execute_input": "2021-05-23T03:52:05.784540Z",
     "iopub.status.busy": "2021-05-23T03:52:05.781791Z",
     "iopub.status.idle": "2021-05-23T03:52:05.788357Z",
     "shell.execute_reply": "2021-05-23T03:52:05.787820Z"
    },
    "papermill": {
     "duration": 0.030972,
     "end_time": "2021-05-23T03:52:05.788564",
     "exception": false,
     "start_time": "2021-05-23T03:52:05.757592",
     "status": "completed"
    },
    "tags": []
   },
   "outputs": [
    {
     "data": {
      "text/plain": [
       "array(['australia', 'austria', 'canada', 'china', 'finland', 'france',\n",
       "       'germany', 'greece', 'hongkong', 'ireland', 'italy', 'japan',\n",
       "       'macau', 'malaysia', 'mauritius', 'netherland', 'new zealand',\n",
       "       'norway', 'pakistan', 'portugal', 'russian federation',\n",
       "       'saudi arabia', 'scotland', 'singapore', 'south korea', 'spain',\n",
       "       'sweden', 'thailand', 'turkey', 'uk', 'urbana', 'usa', 'usofa'],\n",
       "      dtype=object)"
      ]
     },
     "execution_count": 9,
     "metadata": {},
     "output_type": "execute_result"
    }
   ],
   "source": [
    "# get all the unique values in the 'City' column\n",
    "countries = professors['Country'].unique()\n",
    "\n",
    "# sort them alphabetically and then take a closer look\n",
    "countries.sort()\n",
    "countries"
   ]
  },
  {
   "cell_type": "markdown",
   "id": "objective-auckland",
   "metadata": {
    "papermill": {
     "duration": 0.020921,
     "end_time": "2021-05-23T03:52:05.830941",
     "exception": false,
     "start_time": "2021-05-23T03:52:05.810020",
     "status": "completed"
    },
    "tags": []
   },
   "source": [
    "Take another look at the \"Country\" column and see if there's any more data cleaning we need to do.\n",
    "\n",
    "It looks like 'usa' and 'usofa' should be the same country.  Correct the \"Country\" column in the dataframe so that 'usofa' appears instead as 'usa'.\n",
    "\n",
    "**Use the most recent version of the DataFrame (with the whitespaces at the beginning and end of cells removed) from question 2.**"
   ]
  },
  {
   "cell_type": "code",
   "execution_count": 10,
   "id": "handed-young",
   "metadata": {
    "execution": {
     "iopub.execute_input": "2021-05-23T03:52:05.881916Z",
     "iopub.status.busy": "2021-05-23T03:52:05.881256Z",
     "iopub.status.idle": "2021-05-23T03:52:05.887067Z",
     "shell.execute_reply": "2021-05-23T03:52:05.886652Z"
    },
    "papermill": {
     "duration": 0.034856,
     "end_time": "2021-05-23T03:52:05.887185",
     "exception": false,
     "start_time": "2021-05-23T03:52:05.852329",
     "status": "completed"
    },
    "tags": []
   },
   "outputs": [
    {
     "name": "stdout",
     "output_type": "stream",
     "text": [
      "All done!\n"
     ]
    },
    {
     "data": {
      "application/javascript": [
       "parent.postMessage({\"jupyterEvent\": \"custom.exercise_interaction\", \"data\": {\"outcomeType\": 1, \"valueTowardsCompletion\": 0.3333333333333333, \"interactionType\": 1, \"questionType\": 1, \"questionId\": \"3_WorkingWithCities\", \"learnToolsVersion\": \"0.3.4\", \"failureMessage\": \"\", \"exceptionClass\": \"\", \"trace\": \"\"}}, \"*\")"
      ],
      "text/plain": [
       "<IPython.core.display.Javascript object>"
      ]
     },
     "metadata": {},
     "output_type": "display_data"
    },
    {
     "data": {
      "text/markdown": [
       "<span style=\"color:#33cc33\">Correct</span>"
      ],
      "text/plain": [
       "Correct"
      ]
     },
     "metadata": {},
     "output_type": "display_data"
    }
   ],
   "source": [
    "# TODO: Your code here!\n",
    "matches = fuzzywuzzy.process.extract(\"usa\", countries, limit=10, scorer=fuzzywuzzy.fuzz.token_sort_ratio)\n",
    "replace_matches_in_column(df=professors, column='Country', string_to_match=\"usa\", min_ratio=70)\n",
    "\n",
    "# Check your answer\n",
    "q3.check()"
   ]
  },
  {
   "cell_type": "code",
   "execution_count": 11,
   "id": "adequate-gabriel",
   "metadata": {
    "execution": {
     "iopub.execute_input": "2021-05-23T03:52:05.922192Z",
     "iopub.status.busy": "2021-05-23T03:52:05.921620Z",
     "iopub.status.idle": "2021-05-23T03:52:05.924473Z",
     "shell.execute_reply": "2021-05-23T03:52:05.924010Z"
    },
    "papermill": {
     "duration": 0.022069,
     "end_time": "2021-05-23T03:52:05.924600",
     "exception": false,
     "start_time": "2021-05-23T03:52:05.902531",
     "status": "completed"
    },
    "tags": []
   },
   "outputs": [],
   "source": [
    "# Lines below will give you a hint or solution code\n",
    "#q3.hint()\n",
    "#.solution()"
   ]
  },
  {
   "cell_type": "markdown",
   "id": "passive-prefix",
   "metadata": {
    "papermill": {
     "duration": 0.015115,
     "end_time": "2021-05-23T03:52:05.955129",
     "exception": false,
     "start_time": "2021-05-23T03:52:05.940014",
     "status": "completed"
    },
    "tags": []
   },
   "source": [
    "# Congratulations!\n",
    "\n",
    "Congratulations for completing the **Data Cleaning** course on Kaggle Learn!\n",
    "\n",
    "To practice your new skills, you're encouraged to download and investigate some of [Kaggle's Datasets](https://www.kaggle.com/datasets)."
   ]
  },
  {
   "cell_type": "markdown",
   "id": "critical-holocaust",
   "metadata": {
    "papermill": {
     "duration": 0.015238,
     "end_time": "2021-05-23T03:52:05.985877",
     "exception": false,
     "start_time": "2021-05-23T03:52:05.970639",
     "status": "completed"
    },
    "tags": []
   },
   "source": [
    "---\n",
    "\n",
    "\n",
    "\n",
    "\n",
    "*Have questions or comments? Visit the [Learn Discussion forum](https://www.kaggle.com/learn-forum/172650) to chat with other Learners.*"
   ]
  }
 ],
 "metadata": {
  "kernelspec": {
   "display_name": "Python 3",
   "language": "python",
   "name": "python3"
  },
  "language_info": {
   "codemirror_mode": {
    "name": "ipython",
    "version": 3
   },
   "file_extension": ".py",
   "mimetype": "text/x-python",
   "name": "python",
   "nbconvert_exporter": "python",
   "pygments_lexer": "ipython3",
   "version": "3.7.9"
  },
  "papermill": {
   "default_parameters": {},
   "duration": 7.078794,
   "end_time": "2021-05-23T03:52:06.510827",
   "environment_variables": {},
   "exception": null,
   "input_path": "__notebook__.ipynb",
   "output_path": "__notebook__.ipynb",
   "parameters": {},
   "start_time": "2021-05-23T03:51:59.432033",
   "version": "2.3.2"
  }
 },
 "nbformat": 4,
 "nbformat_minor": 5
}
